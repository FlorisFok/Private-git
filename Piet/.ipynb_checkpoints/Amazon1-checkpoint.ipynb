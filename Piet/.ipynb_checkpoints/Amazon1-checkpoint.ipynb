{
 "cells": [
  {
   "cell_type": "code",
   "execution_count": 2,
   "metadata": {},
   "outputs": [],
   "source": [
    "import pandas as pd\n",
    "from selenium import webdriver\n",
    "import time\n",
    "\n",
    "def start_driver(url = \"https://toto.nederlandseloterij.nl/nl/wedden/voetbal/eredivisie-nederland\"):\n",
    "    driver = webdriver.Chrome(executable_path=r'C:/Webdrivers/chromedriver.exe')\n",
    "    driver.get(url)\n",
    "    return driver\n",
    "\n",
    "def get_content(driver,css_header):    \n",
    "    games = driver.find_elements_by_css_selector(css_header)\n",
    "    return games\n",
    "\n",
    "def select_value(item, value = '666'):\n",
    "    for num,i in enumerate(item):\n",
    "        if i.text == value:\n",
    "#             print(num, i.text)\n",
    "            return i\n",
    "\n",
    "def select_value_in(item, value = '666'):\n",
    "    for num,i in enumerate(item):\n",
    "        if value in i.text:\n",
    "#             print(num, i.text)\n",
    "            return i\n",
    "def layer_click(driver, css = \"span.nav-line-1\", value= 'Winkel-'):\n",
    "    item = get_content(driver, css)\n",
    "    web_item = select_value(item, value)\n",
    "    web_item.click()\n"
   ]
  },
  {
   "cell_type": "code",
   "execution_count": 38,
   "metadata": {},
   "outputs": [
    {
     "name": "stdout",
     "output_type": "stream",
     "text": [
      "1 In winkelwagen\n",
      "4 Winkel-\n",
      "5 1\n",
      "9 10+\n",
      "6 Updaten\n",
      "8 Deze verkoper heeft niet meer dan 90 exemplaren beschikbaar. Als je wilt zien of er meer beschikbaar zijn bij een andere verkoper, ga je naar de productpagina.\n",
      "90\n"
     ]
    }
   ],
   "source": [
    "driver = start_driver(\"https://www.amazon.de/gp/product/B07F1JWGTF/\"\n",
    "                      \"ref=ox_sc_act_title_1?language=nl_NL&psc=1&smid=A3MYSHBXOUSGH\")\n",
    "\n",
    "layer_click(driver, css = \"span.a-button-inner\", value= 'In winkelwagen')\n",
    "driver.implicitly_wait(2) \n",
    "layer_click(driver, css = \"span.nav-line-1\", value= 'Winkel-')\n",
    "driver.implicitly_wait(2)\n",
    "layer_click(driver, css = \"span.a-button-inner\", value= '1')\n",
    "driver.implicitly_wait(2)\n",
    "layer_click(driver, css = \"li.a-dropdown-item.quantity-option.quantity-option\", value= '10+')\n",
    "driver.implicitly_wait(2)\n",
    "\n",
    "item5 = get_content(driver, \"input.a-input-text.a-span8.sc-quantity-textfield.sc-hidden\")\n",
    "item5[0].send_keys(999)\n",
    "driver.implicitly_wait(2)\n",
    "\n",
    "layer_click(driver, css = \"span.a-button-inner\", value= 'Updaten')\n",
    "\n",
    "while True:\n",
    "    try:\n",
    "        driver.implicitly_wait(2)\n",
    "        item7 = get_content(driver, \"span.a-size-base\")\n",
    "        web_item = select_value_in(item7, value = 'Deze verkoper')\n",
    "\n",
    "        cijfers = ''\n",
    "        for letter in web_item.text:\n",
    "            try:\n",
    "                int(letter)\n",
    "                cijfers += letter\n",
    "            except:\n",
    "                pass\n",
    "        print(int(cijfers))\n",
    "        break\n",
    "    except:\n",
    "        pass"
   ]
  },
  {
   "cell_type": "code",
   "execution_count": 35,
   "metadata": {},
   "outputs": [
    {
     "name": "stdout",
     "output_type": "stream",
     "text": [
      "8 Deze verkoper heeft niet meer dan 96 exemplaren beschikbaar. Als je wilt zien of er meer beschikbaar zijn bij een andere verkoper, ga je naar de productpagina.\n"
     ]
    },
    {
     "data": {
      "text/plain": [
       "96"
      ]
     },
     "execution_count": 35,
     "metadata": {},
     "output_type": "execute_result"
    }
   ],
   "source": [
    "item7 = get_content(driver, \"span.a-size-base\")\n",
    "web_item = select_value_in(item7, value = 'Deze verkoper')\n",
    "\n",
    "cijfers = ''\n",
    "for letter in web_item.text:\n",
    "    try:\n",
    "        int(letter)\n",
    "        cijfers += letter\n",
    "    except:\n",
    "        pass\n",
    "int(cijfers)"
   ]
  },
  {
   "cell_type": "code",
   "execution_count": null,
   "metadata": {},
   "outputs": [],
   "source": [
    "import gspread\n",
    "from oauth2client.service_account import ServiceAccountCredentials\n",
    "import time\n",
    "\n",
    "scope = ['https://spreadsheets.google.com/feeds',\n",
    "         'https://www.googleapis.com/auth/drive']\t\n",
    "\n",
    "creds = ServiceAccountCredentials.from_json_keyfile_name('Database-6141813cd99e.json', scope)\n",
    "client = gspread.authorize(creds)\n",
    "\n",
    "sheet  = client.open('Test').sheet1\n",
    "###\n",
    "name_list = sheet.col_values(MENS_COL)\n",
    "sheet.update_cell(row_num, MENS_COL, mens)"
   ]
  },
  {
   "cell_type": "code",
   "execution_count": 2,
   "metadata": {},
   "outputs": [],
   "source": [
    "product_code = \"B07F1JWGTF\" ## smartphone houder\n",
    "product_code = 'B07MNGHH7M' ## stekkerdoos\n",
    "\n",
    "def check_stock(product_code):\n",
    "    driver = start_driver(f\"https://www.amazon.de/gp/product/{product_code}/\"\n",
    "                          \"ref=ox_sc_act_title_1?language=nl_NL&psc=1&smid=A3MYSHBXOUSGH\")\n",
    "\n",
    "    layer_click(driver, css = \"span.a-button-inner\", value= 'In winkelwagen')\n",
    "    driver.implicitly_wait(1.9) \n",
    "    layer_click(driver, css = \"span.nav-line-1\", value= 'Winkel-')\n",
    "    driver.implicitly_wait(2)\n",
    "    layer_click(driver, css = \"span.a-button-inner\", value= '1')\n",
    "    driver.implicitly_wait(2.1)\n",
    "    layer_click(driver, css = \"li.a-dropdown-item.quantity-option.quantity-option\", value= '10+')\n",
    "    driver.implicitly_wait(2.2)\n",
    "\n",
    "    item5 = get_content(driver, \"input.a-input-text.a-span8.sc-quantity-textfield.sc-hidden\")\n",
    "    item5[0].send_keys(999)\n",
    "    driver.implicitly_wait(2.3)\n",
    "\n",
    "    layer_click(driver, css = \"span.a-button-inner\", value= 'Updaten')\n",
    "\n",
    "    while True:\n",
    "        try:\n",
    "            driver.implicitly_wait(2)\n",
    "            item7 = get_content(driver, \"span.a-size-base\")\n",
    "            web_item = select_value_in(item7, value = 'Deze verkoper')\n",
    "\n",
    "            cijfers = ''\n",
    "            for letter in web_item.text:\n",
    "                try:\n",
    "                    int(letter)\n",
    "                    cijfers += letter\n",
    "                except:\n",
    "                    pass\n",
    "#             print(int(cijfers))\n",
    "            return(int(cijfers))\n",
    "        except:\n",
    "            pass"
   ]
  },
  {
   "cell_type": "code",
   "execution_count": 44,
   "metadata": {},
   "outputs": [
    {
     "data": {
      "text/plain": [
       "31"
      ]
     },
     "execution_count": 44,
     "metadata": {},
     "output_type": "execute_result"
    }
   ],
   "source": [
    "check_stock(product_code)"
   ]
  },
  {
   "cell_type": "code",
   "execution_count": null,
   "metadata": {},
   "outputs": [],
   "source": []
  },
  {
   "cell_type": "code",
   "execution_count": 2,
   "metadata": {},
   "outputs": [],
   "source": [
    "driver = start_driver(\"https://www.amazon.de/gp/product/B07F1JWGTF/\"\n",
    "    \"ref=ox_sc_act_title_1?language=nl_NL&psc=1&smid=A3MYSHBXOUSGH\")\n",
    "\n",
    "item = get_content(driver, \"span.a-button-inner\")\n"
   ]
  },
  {
   "cell_type": "code",
   "execution_count": 5,
   "metadata": {},
   "outputs": [],
   "source": [
    "# for num,i in enumerate(item):\n",
    "#     print(num, i.text)\n",
    "web_item = select_value(item, value = 'In winkelwagen')"
   ]
  },
  {
   "cell_type": "code",
   "execution_count": 6,
   "metadata": {},
   "outputs": [],
   "source": [
    "web_item.click()"
   ]
  },
  {
   "cell_type": "code",
   "execution_count": 3,
   "metadata": {},
   "outputs": [],
   "source": [
    "prices = get_content(driver,\"i.a-icon.a-accordion-radio.a-icon-radio-inactive\")\n",
    "prices[0].click()"
   ]
  },
  {
   "cell_type": "code",
   "execution_count": 7,
   "metadata": {},
   "outputs": [],
   "source": []
  },
  {
   "cell_type": "code",
   "execution_count": 23,
   "metadata": {},
   "outputs": [],
   "source": [
    "mail = driver.find_element_by_id(\"ap_email\")\n",
    "password = driver.find_element_by_id(\"ap_password\")\n",
    "mail.send_keys(\"florisfok5@gmail.com\")\n",
    "password.send_keys(\"PythonPower\")\n",
    "driver.find_element_by_id(\"signInSubmit\").click()"
   ]
  },
  {
   "cell_type": "code",
   "execution_count": 24,
   "metadata": {},
   "outputs": [],
   "source": []
  },
  {
   "cell_type": "code",
   "execution_count": null,
   "metadata": {},
   "outputs": [],
   "source": []
  },
  {
   "cell_type": "code",
   "execution_count": null,
   "metadata": {},
   "outputs": [],
   "source": []
  },
  {
   "cell_type": "code",
   "execution_count": 13,
   "metadata": {},
   "outputs": [
    {
     "name": "stdout",
     "output_type": "stream",
     "text": [
      "4 Winkel-\n"
     ]
    }
   ],
   "source": [
    "item2 = get_content(driver, \"span.nav-line-1\")\n",
    "web_item = select_value(item2, value = 'Winkel-')\n",
    "web_item.click()"
   ]
  },
  {
   "cell_type": "code",
   "execution_count": 19,
   "metadata": {},
   "outputs": [
    {
     "name": "stdout",
     "output_type": "stream",
     "text": [
      "5 1\n"
     ]
    }
   ],
   "source": [
    "item3 = get_content(driver, \"span.a-button-inner\")\n",
    "web_item = select_value(item3, value = '1')\n",
    "web_item.click()"
   ]
  },
  {
   "cell_type": "code",
   "execution_count": 20,
   "metadata": {},
   "outputs": [
    {
     "name": "stdout",
     "output_type": "stream",
     "text": [
      "9 10+\n"
     ]
    }
   ],
   "source": [
    "item4 = get_content(driver, \"li.a-dropdown-item.quantity-option.quantity-option\")\n",
    "web_item = select_value(item4, value = '10+')\n",
    "web_item.click()"
   ]
  },
  {
   "cell_type": "code",
   "execution_count": 21,
   "metadata": {},
   "outputs": [],
   "source": [
    "item5 = get_content(driver, \"input.a-input-text.a-span8.sc-quantity-textfield.sc-hidden\")\n",
    "\n",
    "item5[0].send_keys(999)"
   ]
  },
  {
   "cell_type": "code",
   "execution_count": 23,
   "metadata": {},
   "outputs": [
    {
     "name": "stdout",
     "output_type": "stream",
     "text": [
      "6 Updaten\n"
     ]
    }
   ],
   "source": [
    "item6 = get_content(driver, \"span.a-button-inner\")\n",
    "web_item = select_value(item6, value = 'Updaten')\n",
    "web_item.click()"
   ]
  },
  {
   "cell_type": "code",
   "execution_count": 28,
   "metadata": {},
   "outputs": [
    {
     "name": "stdout",
     "output_type": "stream",
     "text": [
      "8 Deze verkoper heeft niet meer dan 96 exemplaren beschikbaar. Als je wilt zien of er meer beschikbaar zijn bij een andere verkoper, ga je naar de productpagina.\n"
     ]
    },
    {
     "data": {
      "text/plain": [
       "'Deze verkoper heeft niet meer dan 96 exemplaren beschikbaar. Als je wilt zien of er meer beschikbaar zijn bij een andere verkoper, ga je naar de productpagina.'"
      ]
     },
     "execution_count": 28,
     "metadata": {},
     "output_type": "execute_result"
    }
   ],
   "source": [
    "item7 = get_content(driver, \"span.a-size-base\")\n",
    "web_item = select_value_in(item7, value = 'Deze verkoper')\n",
    "web_item.text"
   ]
  },
  {
   "cell_type": "code",
   "execution_count": 29,
   "metadata": {},
   "outputs": [
    {
     "data": {
      "text/plain": [
       "96"
      ]
     },
     "execution_count": 29,
     "metadata": {},
     "output_type": "execute_result"
    }
   ],
   "source": [
    "noise = web_item.text\n",
    "\n",
    "cijfers = ''\n",
    "for letter in noise:\n",
    "    try:\n",
    "        int(letter)\n",
    "        cijfers += letter\n",
    "    except:\n",
    "        pass\n",
    "int(cijfers)"
   ]
  },
  {
   "cell_type": "code",
   "execution_count": 50,
   "metadata": {},
   "outputs": [],
   "source": [
    "from selenium.webdriver.chrome.options import Options\n",
    "\n",
    "CHROME_PATH = r\"C:\\Program Files (x86)\\Google\\Chrome\\Application\\chrome.exe\" #\"C:\\Program Files (x86)\\Google\\Chrome\"\n",
    "CHROMEDRIVER_PATH = r'C:/Webdrivers/chromedriver.exe'\n",
    "WINDOW_SIZE = \"1920,1080\"\n",
    "\n",
    "chrome_options = Options()  \n",
    "chrome_options.add_argument(\"--headless\")  \n",
    "chrome_options.add_argument(\"--window-size=%s\" % WINDOW_SIZE)\n",
    "chrome_options.binary_location = CHROME_PATH\n",
    "\n",
    "driver = webdriver.Chrome(executable_path=CHROMEDRIVER_PATH,\n",
    "                          options=chrome_options)"
   ]
  },
  {
   "cell_type": "code",
   "execution_count": 52,
   "metadata": {},
   "outputs": [],
   "source": [
    "driver.get(\"https://www.amazon.de/\")"
   ]
  },
  {
   "cell_type": "code",
   "execution_count": 53,
   "metadata": {},
   "outputs": [
    {
     "ename": "AttributeError",
     "evalue": "'WebDriver' object has no attribute 'page'",
     "output_type": "error",
     "traceback": [
      "\u001b[1;31m---------------------------------------------------------------------------\u001b[0m",
      "\u001b[1;31mAttributeError\u001b[0m                            Traceback (most recent call last)",
      "\u001b[1;32m<ipython-input-53-6d962c498046>\u001b[0m in \u001b[0;36m<module>\u001b[1;34m()\u001b[0m\n\u001b[1;32m----> 1\u001b[1;33m \u001b[0mdriver\u001b[0m\u001b[1;33m.\u001b[0m\u001b[0mpage\u001b[0m\u001b[1;33m\u001b[0m\u001b[0m\n\u001b[0m",
      "\u001b[1;31mAttributeError\u001b[0m: 'WebDriver' object has no attribute 'page'"
     ]
    }
   ],
   "source": [
    "driver.page"
   ]
  },
  {
   "cell_type": "code",
   "execution_count": 26,
   "metadata": {},
   "outputs": [],
   "source": [
    "url = \"https://www.amazon.de/gp/product/B07BXNKJ5P/ref=ox_sc_act_title_1?language=nl_NL&psc=1\"\n",
    "\n",
    "driver = start_driver(url)"
   ]
  },
  {
   "cell_type": "code",
   "execution_count": 27,
   "metadata": {},
   "outputs": [],
   "source": [
    "def layer_click(driver, css = \"span.a-button-inner\", value= 'In winkelwagen'):\n",
    "    item = get_content(driver, css)\n",
    "    web_item = select_value(item, value)\n",
    "    web_item.click()"
   ]
  },
  {
   "cell_type": "code",
   "execution_count": 28,
   "metadata": {},
   "outputs": [
    {
     "ename": "IndexError",
     "evalue": "list index out of range",
     "output_type": "error",
     "traceback": [
      "\u001b[1;31m---------------------------------------------------------------------------\u001b[0m",
      "\u001b[1;31mIndexError\u001b[0m                                Traceback (most recent call last)",
      "\u001b[1;32m<ipython-input-28-7aac76f0bb18>\u001b[0m in \u001b[0;36m<module>\u001b[1;34m()\u001b[0m\n\u001b[0;32m      1\u001b[0m \u001b[0mlayer_click\u001b[0m\u001b[1;33m(\u001b[0m\u001b[0mdriver\u001b[0m\u001b[1;33m)\u001b[0m\u001b[1;33m\u001b[0m\u001b[0m\n\u001b[0;32m      2\u001b[0m \u001b[0mgames\u001b[0m \u001b[1;33m=\u001b[0m \u001b[0mdriver\u001b[0m\u001b[1;33m.\u001b[0m\u001b[0mfind_elements_by_css_selector\u001b[0m\u001b[1;33m(\u001b[0m\u001b[1;34m\"button.a-button-close.a-declarative\"\u001b[0m\u001b[1;33m)\u001b[0m\u001b[1;33m\u001b[0m\u001b[0m\n\u001b[1;32m----> 3\u001b[1;33m \u001b[0mgames\u001b[0m\u001b[1;33m[\u001b[0m\u001b[1;36m0\u001b[0m\u001b[1;33m]\u001b[0m\u001b[1;33m.\u001b[0m\u001b[0mclick\u001b[0m\u001b[1;33m(\u001b[0m\u001b[1;33m)\u001b[0m\u001b[1;33m\u001b[0m\u001b[0m\n\u001b[0m",
      "\u001b[1;31mIndexError\u001b[0m: list index out of range"
     ]
    }
   ],
   "source": [
    "layer_click(driver)\n",
    "games = driver.find_elements_by_css_selector(\"button.a-button-close.a-declarative\")\n",
    "games[0].click()"
   ]
  },
  {
   "cell_type": "code",
   "execution_count": 24,
   "metadata": {},
   "outputs": [],
   "source": [
    "games[0].click()"
   ]
  },
  {
   "cell_type": "code",
   "execution_count": null,
   "metadata": {},
   "outputs": [],
   "source": []
  }
 ],
 "metadata": {
  "kernelspec": {
   "display_name": "Python 3",
   "language": "python",
   "name": "python3"
  },
  "language_info": {
   "codemirror_mode": {
    "name": "ipython",
    "version": 3
   },
   "file_extension": ".py",
   "mimetype": "text/x-python",
   "name": "python",
   "nbconvert_exporter": "python",
   "pygments_lexer": "ipython3",
   "version": "3.6.5"
  }
 },
 "nbformat": 4,
 "nbformat_minor": 2
}
