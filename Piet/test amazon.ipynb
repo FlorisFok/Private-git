{
 "cells": [
  {
   "cell_type": "code",
   "execution_count": null,
   "metadata": {},
   "outputs": [],
   "source": []
  },
  {
   "cell_type": "code",
   "execution_count": 1,
   "metadata": {},
   "outputs": [],
   "source": [
    "import pandas as pd\n",
    "from selenium import webdriver\n",
    "import time\n",
    "\n",
    "def start_driver(url = \"https://toto.nederlandseloterij.nl/nl/wedden/voetbal/eredivisie-nederland\"):\n",
    "    driver = webdriver.Chrome(executable_path=r'C:/Webdrivers/chromedriver.exe')\n",
    "    driver.get(url)\n",
    "    return driver\n",
    "\n",
    "def get_content(driver,css_header):    \n",
    "    games = driver.find_elements_by_css_selector(css_header)\n",
    "    return games\n",
    "\n",
    "def select_value(item, value = '666', number = 666):\n",
    "    for num,i in enumerate(item):\n",
    "        if i.text == value:\n",
    "            print(num, i.text)\n",
    "            return i\n",
    "        elif num == number:\n",
    "            print(num, i.text)\n",
    "            return i\n",
    "\n"
   ]
  },
  {
   "cell_type": "code",
   "execution_count": 4,
   "metadata": {},
   "outputs": [],
   "source": [
    "driver = start_driver(\"https://www.amazon.de/gp/product/B07F1JWGTF/ref=ox_sc_act_title_1?smid=A3MYSHBXOUSGH&psc=1\")"
   ]
  },
  {
   "cell_type": "code",
   "execution_count": 5,
   "metadata": {},
   "outputs": [],
   "source": [
    "item = get_content(driver, \"span.a-button-inner\")"
   ]
  },
  {
   "cell_type": "code",
   "execution_count": 11,
   "metadata": {},
   "outputs": [
    {
     "name": "stdout",
     "output_type": "stream",
     "text": [
      "0 \n",
      "1 In den Einkaufswagen\n",
      "2 Jetzt kaufen\n",
      "3 Auf die Liste\n",
      "4 Bei Amazon verkaufen\n",
      "5 \n",
      "6 \n",
      "7 \n",
      "8 \n",
      "9 \n",
      "10 \n",
      "11 \n",
      "12 \n",
      "13 \n",
      "14 2 Combinations\n",
      "15 3 Combinations\n",
      "16 Beides in den Einkaufswagen\n",
      "17 \n",
      "18 \n",
      "19 \n",
      "20 \n",
      "21 In den Einkaufswagen\n",
      "22 In den Einkaufswagen\n",
      "23 In den Einkaufswagen\n",
      "24 In den Einkaufswagen\n",
      "25 \n",
      "26 \n",
      "27 \n",
      "28 \n",
      "29 \n",
      "30 \n",
      "31 \n",
      "32 Ja\n",
      "33 Nein\n",
      "34 Kundenrezension verfassen\n",
      "35 Spitzenrezensionen\n",
      "36 Nützlich\n",
      "37 Nützlich\n",
      "38 Nützlich\n",
      "39 Nützlich\n",
      "40 Nützlich\n",
      "41 Nützlich\n",
      "42 Kundenrezension verfassen\n"
     ]
    }
   ],
   "source": [
    "for num,i in enumerate(item):\n",
    "    print(num, i.text)"
   ]
  },
  {
   "cell_type": "code",
   "execution_count": 12,
   "metadata": {},
   "outputs": [],
   "source": [
    "item[1].click()"
   ]
  },
  {
   "cell_type": "code",
   "execution_count": 13,
   "metadata": {},
   "outputs": [],
   "source": [
    "item2 = get_content(driver, \"span.a-button-inner\")"
   ]
  },
  {
   "cell_type": "code",
   "execution_count": 14,
   "metadata": {},
   "outputs": [
    {
     "name": "stdout",
     "output_type": "stream",
     "text": [
      "0 Einkaufswagen\n",
      "1 Zur Kasse gehen (1 Artikel)\n",
      "2 \n",
      "3 \n",
      "4 \n",
      "5 \n",
      "6 \n",
      "7 \n",
      "8 \n",
      "9 \n",
      "10 \n",
      "11 \n",
      "12 \n",
      "13 \n",
      "14 \n",
      "15 \n",
      "16 \n",
      "17 \n",
      "18 Einkaufswagen\n",
      "19 Zur Kasse gehen (1 Artikel)\n"
     ]
    }
   ],
   "source": [
    "for num,i in enumerate(item2):\n",
    "    print(num, i.text)"
   ]
  },
  {
   "cell_type": "code",
   "execution_count": 16,
   "metadata": {},
   "outputs": [],
   "source": [
    "item2[1].click()"
   ]
  },
  {
   "cell_type": "code",
   "execution_count": 17,
   "metadata": {},
   "outputs": [],
   "source": [
    "item2 = get_content(driver, \"span.nav-line-1\")"
   ]
  },
  {
   "cell_type": "code",
   "execution_count": 18,
   "metadata": {},
   "outputs": [
    {
     "name": "stdout",
     "output_type": "stream",
     "text": [
      "0 NL\n",
      "1 Hallo! Aanmelden\n",
      "2 \n",
      "3 Ontdek\n",
      "4 Winkel-\n",
      "5 Alle\n"
     ]
    }
   ],
   "source": [
    "for num,i in enumerate(item2):\n",
    "    print(num, i.text)"
   ]
  },
  {
   "cell_type": "code",
   "execution_count": 19,
   "metadata": {},
   "outputs": [],
   "source": [
    "item2[4].click()"
   ]
  },
  {
   "cell_type": "code",
   "execution_count": 20,
   "metadata": {},
   "outputs": [],
   "source": [
    "item3 = get_content(driver, \"span.a-button-inner\")"
   ]
  },
  {
   "cell_type": "code",
   "execution_count": 21,
   "metadata": {},
   "outputs": [
    {
     "name": "stdout",
     "output_type": "stream",
     "text": [
      "0 Naar de kassa\n",
      "1 Alle koopopties bekijken\n",
      "2 Alle koopopties bekijken\n",
      "3 Alle koopopties bekijken\n",
      "4 Alle koopopties bekijken\n",
      "5 1\n",
      "6 \n",
      "7 \n",
      "8 In winkelwagen\n",
      "9 In winkelwagen\n",
      "10 In winkelwagen\n",
      "11 \n",
      "12 \n",
      "13 \n",
      "14 \n",
      "15 \n"
     ]
    }
   ],
   "source": [
    "for num,i in enumerate(item3):\n",
    "    print(num, i.text)"
   ]
  },
  {
   "cell_type": "code",
   "execution_count": 23,
   "metadata": {},
   "outputs": [],
   "source": [
    "item3[5].click()"
   ]
  },
  {
   "cell_type": "code",
   "execution_count": 29,
   "metadata": {},
   "outputs": [],
   "source": [
    "item4 = get_content(driver, \"li.a-dropdown-item.quantity-option.quantity-option\")"
   ]
  },
  {
   "cell_type": "code",
   "execution_count": 30,
   "metadata": {},
   "outputs": [
    {
     "name": "stdout",
     "output_type": "stream",
     "text": [
      "0 1\n",
      "1 2\n",
      "2 3\n",
      "3 4\n",
      "4 5\n",
      "5 6\n",
      "6 7\n",
      "7 8\n",
      "8 9\n",
      "9 10+\n"
     ]
    }
   ],
   "source": [
    "for num,i in enumerate(item4):\n",
    "    print(num, i.text)"
   ]
  },
  {
   "cell_type": "code",
   "execution_count": 31,
   "metadata": {},
   "outputs": [],
   "source": [
    "item4[9].click()"
   ]
  },
  {
   "cell_type": "code",
   "execution_count": 32,
   "metadata": {},
   "outputs": [],
   "source": [
    "item5 = get_content(driver, \"input.a-input-text.a-span8.sc-quantity-textfield.sc-hidden\")"
   ]
  },
  {
   "cell_type": "code",
   "execution_count": 33,
   "metadata": {},
   "outputs": [
    {
     "name": "stdout",
     "output_type": "stream",
     "text": [
      "0 \n"
     ]
    }
   ],
   "source": [
    "for num,i in enumerate(item5):\n",
    "    print(num, i.text)"
   ]
  },
  {
   "cell_type": "code",
   "execution_count": 35,
   "metadata": {},
   "outputs": [
    {
     "ename": "AttributeError",
     "evalue": "'WebElement' object has no attribute 'setAttribute'",
     "output_type": "error",
     "traceback": [
      "\u001b[1;31m---------------------------------------------------------------------------\u001b[0m",
      "\u001b[1;31mAttributeError\u001b[0m                            Traceback (most recent call last)",
      "\u001b[1;32m<ipython-input-35-76370b0fea40>\u001b[0m in \u001b[0;36m<module>\u001b[1;34m()\u001b[0m\n\u001b[1;32m----> 1\u001b[1;33m \u001b[0mitem5\u001b[0m\u001b[1;33m[\u001b[0m\u001b[1;36m0\u001b[0m\u001b[1;33m]\u001b[0m\u001b[1;33m.\u001b[0m\u001b[0msetAttribute\u001b[0m\u001b[1;33m(\u001b[0m\u001b[1;34m\"quantityBox\"\u001b[0m\u001b[1;33m,\u001b[0m \u001b[1;36m999\u001b[0m\u001b[1;33m)\u001b[0m\u001b[1;33m\u001b[0m\u001b[0m\n\u001b[0m",
      "\u001b[1;31mAttributeError\u001b[0m: 'WebElement' object has no attribute 'setAttribute'"
     ]
    }
   ],
   "source": [
    "item5[0].setAttribute(\"quantityBox\", 999)"
   ]
  },
  {
   "cell_type": "code",
   "execution_count": 38,
   "metadata": {},
   "outputs": [],
   "source": [
    "item5[0].send_keys(999)"
   ]
  },
  {
   "cell_type": "code",
   "execution_count": 39,
   "metadata": {},
   "outputs": [],
   "source": [
    "item6 = get_content(driver, \"span.a-button-inner\")"
   ]
  },
  {
   "cell_type": "code",
   "execution_count": 40,
   "metadata": {},
   "outputs": [
    {
     "name": "stdout",
     "output_type": "stream",
     "text": [
      "0 Naar de kassa\n",
      "1 Alle koopopties bekijken\n",
      "2 Alle koopopties bekijken\n",
      "3 Alle koopopties bekijken\n",
      "4 Alle koopopties bekijken\n",
      "5 \n",
      "6 Updaten\n",
      "7 \n",
      "8 In winkelwagen\n",
      "9 In winkelwagen\n",
      "10 In winkelwagen\n",
      "11 \n",
      "12 \n",
      "13 \n",
      "14 \n",
      "15 \n"
     ]
    }
   ],
   "source": [
    "for num,i in enumerate(item6):\n",
    "    print(num, i.text)"
   ]
  },
  {
   "cell_type": "code",
   "execution_count": 42,
   "metadata": {},
   "outputs": [],
   "source": [
    "item6[6].click()"
   ]
  },
  {
   "cell_type": "code",
   "execution_count": 43,
   "metadata": {},
   "outputs": [],
   "source": [
    "item7 = get_content(driver, \"span.a-size-base\")"
   ]
  },
  {
   "cell_type": "code",
   "execution_count": 44,
   "metadata": {},
   "outputs": [
    {
     "name": "stdout",
     "output_type": "stream",
     "text": [
      "0 EUR 15,59\n",
      "1 EUR 23,99\n",
      "2 EUR 6,99\n",
      "3 EUR 10,26\n",
      "4 \n",
      "5 \n",
      "6 \n",
      "7 \n",
      "8 Deze verkoper heeft niet meer dan 97 exemplaren beschikbaar. Als je wilt zien of er meer beschikbaar zijn bij een andere verkoper, ga je naar de productpagina.\n",
      "9 \n",
      "10 EUR 18,59\n",
      "11 EUR 8,99\n",
      "12 EUR 23,10\n",
      "13 \n",
      "14 EUR 29,99\n",
      "15 EUR 12,99\n",
      "16 EUR 24,99\n",
      "17 EUR 17,99\n",
      "18 EUR 22,99\n",
      "19 EUR 11,00\n",
      "20 \n",
      "21 \n",
      "22 EUR 3,99\n",
      "23 EUR 2,49\n",
      "24 EUR 0,99\n",
      "25 EUR 4,99\n",
      "26 EUR 0,99\n",
      "27 EUR 0,99\n",
      "28 \n"
     ]
    }
   ],
   "source": [
    "for num,i in enumerate(item7):\n",
    "    print(num, i.text)"
   ]
  },
  {
   "cell_type": "code",
   "execution_count": null,
   "metadata": {},
   "outputs": [],
   "source": [
    "driver.manage().timeouts().pageLoadTimeout(10, TimeUnit.SECONDS);"
   ]
  }
 ],
 "metadata": {
  "kernelspec": {
   "display_name": "Python 3",
   "language": "python",
   "name": "python3"
  },
  "language_info": {
   "codemirror_mode": {
    "name": "ipython",
    "version": 3
   },
   "file_extension": ".py",
   "mimetype": "text/x-python",
   "name": "python",
   "nbconvert_exporter": "python",
   "pygments_lexer": "ipython3",
   "version": "3.6.5"
  }
 },
 "nbformat": 4,
 "nbformat_minor": 2
}
